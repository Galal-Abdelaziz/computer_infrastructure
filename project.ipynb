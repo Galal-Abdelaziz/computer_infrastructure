{
 "cells": [
  {
   "cell_type": "markdown",
   "metadata": {},
   "source": [
    "# Project\n",
    "\n",
    "Author: Galal Abdelaziz\n",
    "\n",
    "This notebook contains information and a summary of the GitHub Actions Workflow automated project."
   ]
  },
  {
   "cell_type": "markdown",
   "metadata": {},
   "source": [
    "***\n",
    "\n",
    "## Summary:\n",
    "\n",
    "This project automates the `weather.sh` script to run daily, ensuring that the latest weather data is fetched, processed, and committed to the repository automatically. It uses GitHub Actions to manage the workflow, utilizing a Linux virtual machine for execution. By doing so, it keeps the repository up-to-date with the latest weather data without manual intervention, ensuring accurate and timely updates."
   ]
  },
  {
   "cell_type": "markdown",
   "metadata": {},
   "source": [
    "***\n",
    "\n",
    "## Tasks:"
   ]
  },
  {
   "cell_type": "markdown",
   "metadata": {},
   "source": [
    "### Task 1: Create a GitHub Actions Workflow.\n",
    "\n",
    "Create the \".github/workflows/\" directory using the `-p` option added to the `mkdir` command to create the directory and parent directory at the same time:\n",
    "\n",
    "![Project1-1](img/project1-1.png)\n",
    "\n",
    "Create a file named \"weather-data.yml\" using the `touch` command.\n",
    "\n",
    "![Project1-2](img/project1-2.png)\n",
    "\n",
    "Verify that the file has been created using `ls` command:\n",
    "\n",
    "![Project1-3](img/project1-3.png)\n"
   ]
  },
  {
   "cell_type": "markdown",
   "metadata": {},
   "source": [
    "### Task 2: Run Daily at 10am.\n",
    "\n",
    "![Project2-1](img/project2-1.png)\n",
    "\n"
   ]
  },
  {
   "cell_type": "markdown",
   "metadata": {},
   "source": [
    "### Task 3: Use a Linux Virtual Machine.\n",
    "\n",
    "![Project3-1](img/project3-1.png)"
   ]
  },
  {
   "cell_type": "markdown",
   "metadata": {},
   "source": [
    "### Task 4: Clone the Repository.\n",
    "\n",
    "![Project4-1](img/project4-1.png)"
   ]
  },
  {
   "cell_type": "markdown",
   "metadata": {},
   "source": [
    "### Task 5: Execute the weather.sh Script.\n",
    "\n",
    "![Project5-1](img/project5-1.png)"
   ]
  },
  {
   "cell_type": "markdown",
   "metadata": {},
   "source": [
    "### Task 6: Commit and Push Changes Back to the Repository.\n",
    "\n",
    "![Project6-1](img/project6-1.png)"
   ]
  },
  {
   "cell_type": "markdown",
   "metadata": {},
   "source": [
    "### Task 7: Test the Workflow.\n",
    "\n",
    "![Project7-1](img/project7-1.png)\n",
    "![Project7-2](img/project7-2.png)\n",
    "![Project7-3](img/project7-3.png)"
   ]
  },
  {
   "cell_type": "markdown",
   "metadata": {},
   "source": [
    "***\n",
    "\n",
    "## Resources:"
   ]
  },
  {
   "cell_type": "markdown",
   "metadata": {},
   "source": [
    "[**GitHub Actions Workflow**](https://docs.github.com/en/actions/writing-workflows/workflow-syntax-for-github-actions).\n",
    "\n",
    "[**Cron**](https://crontab.guru).\n",
    "\n",
    "[**Markdown**](https://www.markdownguide.org/).\n",
    "\n",
    "\n"
   ]
  },
  {
   "cell_type": "markdown",
   "metadata": {},
   "source": [
    "***\n",
    "\n",
    "## End"
   ]
  }
 ],
 "metadata": {
  "language_info": {
   "name": "python"
  }
 },
 "nbformat": 4,
 "nbformat_minor": 2
}
