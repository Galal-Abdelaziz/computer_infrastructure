{
 "cells": [
  {
   "cell_type": "markdown",
   "metadata": {},
   "source": [
    "# Weather\n",
    "\n",
    "This notebook is part of the **Computer Infrastructure** tasks\n"
   ]
  },
  {
   "cell_type": "markdown",
   "metadata": {},
   "source": [
    "## Tasks:"
   ]
  },
  {
   "cell_type": "markdown",
   "metadata": {},
   "source": [
    "### Task 1: Create Directory Structure\n",
    "\n",
    "Create the \"Data\" directory using `mkdir` command:\n",
    "\n",
    "![Task1-1](img/task1-1.png)\n",
    "\n",
    "Navigate into the \"Data\" directory using `cd` command:\n",
    "\n",
    "![Task1-2](img/task1-2.png)\n",
    "\n",
    "Create the \"timestamps\" and \"weather\" directories using `mkdir` command:\n",
    "\n",
    "![Task1-3](img/task1-3.png)\n",
    "\n",
    "Alternatively, use the \"-p\" option added to the `mkdir` command to create the directories and parent directory at the same time:\n",
    "\n",
    "![Task1-4](img/task1-4.png)"
   ]
  },
  {
   "cell_type": "markdown",
   "metadata": {},
   "source": [
    "### Task 2: Timestamps\n",
    "\n",
    "Navigate into the \"data/timestamps\" directory using `cd` command:\n",
    "\n",
    "![Task2-1](img/task2-1.png)\n",
    "\n",
    "Append the current date and time to \"now.txt\" ten times using `date` command and `>>` operator:\n",
    "\n",
    "![Task2-2](img/task2-2.png)\n",
    "\n",
    "Verify the contents of \"now.txt\" using `more` command:\n",
    "\n",
    "![Task2-3](img/task2-3.png)\n"
   ]
  },
  {
   "cell_type": "markdown",
   "metadata": {},
   "source": [
    "### Task 3: Formatting Timestamps\n",
    "\n",
    "Navigate into the \"data/timestamps\" directory using `cd` command:\n",
    "\n",
    "![Task3-1](img/task2-1.png)\n",
    "\n",
    "Append the current date and time in the `YYYYmmdd_HHMMSS` format to \"formatted.txt\" using `date +\"format\"` command and `>>` operator:\n",
    "\n",
    "![Task3-2](img/task3-2.png)\n",
    "\n",
    "Verify the contents of \"formatted.txt\" using `more` command:\n",
    "\n",
    "![Task3-3](img/task3-3.png)\n"
   ]
  },
  {
   "cell_type": "markdown",
   "metadata": {},
   "source": [
    "### Task 4: Create Timestamped Files\n",
    "\n",
    "Navigate into the \"data/timestamps\" directory using `cd` command:\n",
    "\n",
    "![Task4-1](img/task2-1.png)\n",
    "\n",
    "Create an empty file with a name in the \"YYYYmmdd_HHMMSS.txt\" format using `touch` , ` `` ` and ``date +\"%Y%m%d_%H%M%S\"``commands:\n",
    "\n",
    "![Task4-2](img/task4-2.png)\n",
    "\n",
    "Verify that the file has been created using `ls` command:\n",
    "\n",
    "![Task4-3](img/task4-3.png)\n",
    "\n"
   ]
  },
  {
   "cell_type": "markdown",
   "metadata": {},
   "source": [
    "### Task 5: Download Today's Weather Data\n",
    "\n",
    "Navigate into the \"data/weather\" directory using `cd` command:\n",
    "\n",
    "![Task5-1](img/task5-1.png)\n",
    "\n",
    "Download the weather data using the `wget` command, and use the `-O <filename>` option to save the file with a specific name:\n",
    "\n",
    "![Task5-2](img/task5-2.png)\n",
    "\n",
    "Verify that the file has been downloaded/created using `ls` command:\n",
    "\n",
    "![Task5-3](img/task5-3.png)"
   ]
  },
  {
   "cell_type": "markdown",
   "metadata": {},
   "source": [
    "### Task 6: Timestamp the Data\n",
    "\n",
    "Navigate into the \"data/weather\" directory using `cd` command:\n",
    "\n",
    "![Task6-1](img/task5-1.png)\n",
    "\n",
    "Download the weather data using the `wget` command, and use the ` `` ` and ``date +\"%Y%m%d_%H%M%S\"`` commands to save the file with a specific name/date format:\n",
    "\n",
    "![Task6-2](img/task6-2.png)\n",
    "\n",
    "Verify that the file has been downloaded/created using `ls` command:\n",
    "\n",
    "![Task6-3](img/task6-3.png)"
   ]
  },
  {
   "cell_type": "markdown",
   "metadata": {},
   "source": [
    "### Task 7: Write the Script\n",
    "\n",
    "Navigate into the \"repository root\" directory using `cd` command:\n",
    "\n",
    "![Task7-1](img/task7-1.png)\n",
    "\n",
    "Create an empty file using `touch` command:\n",
    "\n",
    "![Task7-2](img/task7-2.png)\n",
    "\n",
    "Opening the file in nano text editor using `nano` command:\n",
    "\n",
    "![Task7-3](img/task7-3.png)\n",
    "\n",
    "Writing the bash script using nano text editor:\n",
    "\n",
    "**Ctrl + O** to Save\n",
    "\n",
    "**Ctrl + x** to Exit\n",
    "\n",
    "![Task7-4](img/task7-4.png)\n",
    "\n",
    "Make the script executable using `chmod` command using the `+x` option to add execute permission as a program:\n",
    "\n",
    "![Task7-5](img/task7-5.png)\n",
    "\n",
    "Test the script by running it:\n",
    "\n",
    "![Task7-6](img/task7-6.png)\n",
    "\n",
    "Verify that the file has been downloaded/created in the correct directory using `cd` & `ls` commands:\n",
    "\n",
    "![Task7-7](img/task7-7.png)"
   ]
  },
  {
   "cell_type": "markdown",
   "metadata": {},
   "source": [
    "## Commands Used:"
   ]
  },
  {
   "cell_type": "markdown",
   "metadata": {},
   "source": [
    "`mkdir`\n",
    "\n",
    "**Creates a directory.**\n",
    "\n",
    "Example: `mkdir data` creates a new directory called `data`.\n",
    "\n",
    "`cd`\n",
    "\n",
    "**Changes the current directory.**\n",
    "\n",
    "Example: cd `data/timestamps` moves you into the `data/timestamps` directory.\n",
    "\n",
    "`ls`\n",
    "\n",
    "**Lists directory contents.**\n",
    "\n",
    "Example: `ls` shows files and directories in the current directory.\n",
    "\n",
    "`date`\n",
    "\n",
    "**Displays the current date and time.**\n",
    "\n",
    "Example: `date` prints the current date and time.\n",
    "\n",
    "`more`\n",
    "\n",
    "**Displays text files one screen at a time.**\n",
    "\n",
    "Example: `more now.txt` allows you to view `now.txt` one screen at a time.\n",
    "\n",
    "`>>` (right shift operator):\n",
    "\n",
    "**Appends output to a file.**\n",
    "\n",
    "Example: `echo \"Hello\" >> file.txt appends \"Hello\" to file.txt.\n",
    "\n",
    "`man + command`\n",
    "\n",
    "Displays the manual for the command.\n",
    "\n",
    "Example: man date shows detailed documentation for the date command.\n",
    "\n",
    "` `` ` (backticks):\n",
    "\n",
    "**Executes commands and returns their output.**\n",
    "\n",
    "Example: `date >> now.txt` includes the current date in the `now.txt` file.\n",
    "\n",
    "`nano`\n",
    "\n",
    "**Opens the Nano text editor.**\n",
    "\n",
    "Example: `nano weather.sh` opens `weather.sh` for editing in Nano.\n",
    "\n",
    "`touch`\n",
    "\n",
    "**Creates an empty file or updates the timestamp of an existing file.**\n",
    "\n",
    "Example: `touch weather.sh` creates `weather.sh` if it doesn't exist or updates its timestamp if it does.\n",
    "\n",
    "`chmod`\n",
    "\n",
    "**Changes file permissions.**\n",
    "\n",
    "Example: chmod +x weather.sh makes weather.sh executable.\n",
    "\n"
   ]
  },
  {
   "cell_type": "markdown",
   "metadata": {},
   "source": [
    "## Resources:\n",
    "\n",
    "**Markdown:**\n",
    "\n",
    "https://www.jetbrains.com/help/hub/markdown-syntax.html#quick-notes-markdown-characters\n",
    "\n",
    "**Bash:**\n",
    "\n",
    "https://devhints.io/bash\n",
    "\n",
    "**Command Line:**\n",
    "\n",
    "https://www.codecademy.com/article/command-line-commands \n",
    "\n",
    "https://ubuntu.com/tutorials/command-line-for-beginners#1-overview\n",
    "\n",
    "**Codespaces:**\n",
    "\n",
    "https://docs.github.com/en/codespaces/getting-started/quickstart"
   ]
  }
 ],
 "metadata": {
  "language_info": {
   "name": "python"
  }
 },
 "nbformat": 4,
 "nbformat_minor": 2
}
