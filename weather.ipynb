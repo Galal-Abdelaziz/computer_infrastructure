{
 "cells": [
  {
   "cell_type": "markdown",
   "metadata": {},
   "source": [
    "# Weather\n",
    "\n",
    "This notebook is part of the **Computer Infrastructure** module **(Task 8)**.\n"
   ]
  },
  {
   "cell_type": "markdown",
   "metadata": {},
   "source": [
    "***\n",
    "\n",
    "## Tasks:"
   ]
  },
  {
   "cell_type": "markdown",
   "metadata": {},
   "source": [
    "### Task 1: Create Directory Structure\n",
    "\n",
    "Create the \"Data\" directory using `mkdir` command:\n",
    "\n",
    "![Task1-1](img/task1-1.png)\n",
    "\n",
    "Navigate into the \"Data\" directory using `cd` command:\n",
    "\n",
    "![Task1-2](img/task1-2.png)\n",
    "\n",
    "Create the \"timestamps\" and \"weather\" directories using `mkdir` command:\n",
    "\n",
    "![Task1-3](img/task1-3.png)\n",
    "\n",
    "Alternatively, use the \"-p\" option added to the `mkdir` command to create the directories and parent directory at the same time:\n",
    "\n",
    "![Task1-4](img/task1-4.png)"
   ]
  },
  {
   "cell_type": "markdown",
   "metadata": {},
   "source": [
    "### Task 2: Timestamps\n",
    "\n",
    "Navigate into the \"data/timestamps\" directory using `cd` command:\n",
    "\n",
    "![Task2-1](img/task2-1.png)\n",
    "\n",
    "Append the current date and time to \"now.txt\" ten times using `date` command and `>>` operator:\n",
    "\n",
    "![Task2-2](img/task2-2.png)\n",
    "\n",
    "Verify the contents of \"now.txt\" using `more` command:\n",
    "\n",
    "![Task2-3](img/task2-3.png)\n"
   ]
  },
  {
   "cell_type": "markdown",
   "metadata": {},
   "source": [
    "### Task 3: Formatting Timestamps\n",
    "\n",
    "Navigate into the \"data/timestamps\" directory using `cd` command:\n",
    "\n",
    "![Task3-1](img/task2-1.png)\n",
    "\n",
    "Append the current date and time in the `YYYYmmdd_HHMMSS` format to \"formatted.txt\" using `date +\"format\"` command and `>>` operator:\n",
    "\n",
    "![Task3-2](img/task3-2.png)\n",
    "\n",
    "Verify the contents of \"formatted.txt\" using `more` command:\n",
    "\n",
    "![Task3-3](img/task3-3.png)\n"
   ]
  },
  {
   "cell_type": "markdown",
   "metadata": {},
   "source": [
    "### Task 4: Create Timestamped Files\n",
    "\n",
    "Navigate into the \"data/timestamps\" directory using `cd` command:\n",
    "\n",
    "![Task4-1](img/task2-1.png)\n",
    "\n",
    "Create an empty file with a name in the \"YYYYmmdd_HHMMSS.txt\" format using `touch` , ` `` ` and ``date +\"%Y%m%d_%H%M%S\"``commands:\n",
    "\n",
    "![Task4-2](img/task4-2.png)\n",
    "\n",
    "Verify that the file has been created using `ls` command:\n",
    "\n",
    "![Task4-3](img/task4-3.png)\n",
    "\n"
   ]
  },
  {
   "cell_type": "markdown",
   "metadata": {},
   "source": [
    "### Task 5: Download Today's Weather Data\n",
    "\n",
    "Navigate into the \"data/weather\" directory using `cd` command:\n",
    "\n",
    "![Task5-1](img/task5-1.png)\n",
    "\n",
    "Download the weather data using the `wget` command, and use the `-O <filename>` option to save the file with a specific name:\n",
    "\n",
    "![Task5-2](img/task5-2.png)\n",
    "\n",
    "Verify that the file has been downloaded/created using `ls` command:\n",
    "\n",
    "![Task5-3](img/task5-3.png)"
   ]
  },
  {
   "cell_type": "markdown",
   "metadata": {},
   "source": [
    "### Task 6: Timestamp the Data\n",
    "\n",
    "Navigate into the \"data/weather\" directory using `cd` command:\n",
    "\n",
    "![Task6-1](img/task5-1.png)\n",
    "\n",
    "Download the weather data using the `wget` command, and use the ` `` ` and ``date +\"%Y%m%d_%H%M%S\"`` commands to save the file with a specific name/date format:\n",
    "\n",
    "![Task6-2](img/task6-2.png)\n",
    "\n",
    "Verify that the file has been downloaded/created using `ls` command:\n",
    "\n",
    "![Task6-3](img/task6-3.png)"
   ]
  },
  {
   "cell_type": "markdown",
   "metadata": {},
   "source": [
    "### Task 7: Write the Script\n",
    "\n",
    "Navigate into the \"repository root\" directory using `cd` command:\n",
    "\n",
    "![Task7-1](img/task7-1.png)\n",
    "\n",
    "Create an empty file using `touch` command:\n",
    "\n",
    "![Task7-2](img/task7-2.png)\n",
    "\n",
    "Opening the file in nano text editor using `nano` command:\n",
    "\n",
    "![Task7-3](img/task7-3.png)\n",
    "\n",
    "Writing the bash script using nano text editor:\n",
    "\n",
    "**Ctrl + O** to Save\n",
    "\n",
    "**Ctrl + x** to Exit\n",
    "\n",
    "![Task7-4](img/task7-4.png)\n",
    "\n",
    "Make the script executable using `chmod` command using the `+x` option to add execute permission as a program:\n",
    "\n",
    "![Task7-5](img/task7-5.png)\n",
    "\n",
    "Test the script by running it:\n",
    "\n",
    "![Task7-6](img/task7-6.png)\n",
    "\n",
    "Verify that the file has been downloaded/created in the correct directory using `cd` & `ls` commands:\n",
    "\n",
    "![Task7-7](img/task7-7.png)"
   ]
  },
  {
   "cell_type": "markdown",
   "metadata": {},
   "source": [
    "***\n",
    "\n",
    "## Commands Used:"
   ]
  },
  {
   "cell_type": "markdown",
   "metadata": {},
   "source": [
    "`mkdir`\n",
    "\n",
    "**Creates a directory.**\n",
    "\n",
    "Example: `mkdir data` creates a new directory called `data`.\n",
    "\n",
    "`cd`\n",
    "\n",
    "**Changes the current directory.**\n",
    "\n",
    "Example: cd `data/timestamps` moves you into the `data/timestamps` directory.\n",
    "\n",
    "`ls`\n",
    "\n",
    "**Lists directory contents.**\n",
    "\n",
    "Example: `ls` shows files and directories in the current directory.\n",
    "\n",
    "`date`\n",
    "\n",
    "**Displays the current date and time.**\n",
    "\n",
    "Example: `date` prints the current date and time.\n",
    "\n",
    "`more`\n",
    "\n",
    "**Displays text files one screen at a time.**\n",
    "\n",
    "Example: `more now.txt` allows you to view `now.txt` one screen at a time.\n",
    "\n",
    "`>>` (right shift operator):\n",
    "\n",
    "**Appends output to a file.**\n",
    "\n",
    "Example: `echo \"Hello\" >> file.txt appends \"Hello\" to file.txt.\n",
    "\n",
    "`man + command`\n",
    "\n",
    "Displays the manual for the command.\n",
    "\n",
    "Example: man date shows detailed documentation for the date command.\n",
    "\n",
    "` `` ` (backticks):\n",
    "\n",
    "**Executes commands and returns their output.**\n",
    "\n",
    "Example: `date >> now.txt` includes the current date in the `now.txt` file.\n",
    "\n",
    "`nano`\n",
    "\n",
    "**Opens the Nano text editor.**\n",
    "\n",
    "Example: `nano weather.sh` opens `weather.sh` for editing in Nano.\n",
    "\n",
    "`touch`\n",
    "\n",
    "**Creates an empty file or updates the timestamp of an existing file.**\n",
    "\n",
    "Example: `touch weather.sh` creates `weather.sh` if it doesn't exist or updates its timestamp if it does.\n",
    "\n",
    "`chmod`\n",
    "\n",
    "**Changes file permissions.**\n",
    "\n",
    "Example: chmod +x weather.sh makes weather.sh executable.\n",
    "\n"
   ]
  },
  {
   "cell_type": "markdown",
   "metadata": {},
   "source": [
    "***\n",
    "\n",
    "## Task 9 Pandas:"
   ]
  },
  {
   "cell_type": "markdown",
   "metadata": {},
   "source": [
    "### Code:"
   ]
  },
  {
   "cell_type": "code",
   "execution_count": 20,
   "metadata": {},
   "outputs": [],
   "source": [
    "import pandas as pd\n",
    "from tabulate import tabulate"
   ]
  },
  {
   "cell_type": "code",
   "execution_count": 22,
   "metadata": {},
   "outputs": [
    {
     "name": "stdout",
     "output_type": "stream",
     "text": [
      "+----+---------+---------------+----------+----------------------+---------------+-------------+------------+-------------------------+-----------------+------------+------------+------------+-----------+---------------------+--------------+\n",
      "|    | name    |   temperature | symbol   | weatherDescription   | text          |   windSpeed |   windGust | cardinalWindDirection   |   windDirection |   humidity |   rainfall |   pressure | dayName   | date                | reportTime   |\n",
      "|----+---------+---------------+----------+----------------------+---------------+-------------+------------+-------------------------+-----------------+------------+------------+------------+-----------+---------------------+--------------|\n",
      "|  0 | Athenry |            10 | 05n      | Rain showers         | \"Rain shower\" |          35 |         61 | SW                      |             225 |         90 |        0.4 |        976 | Sunday    | 2024-11-24 00:00:00 | 00:00        |\n",
      "+----+---------+---------------+----------+----------------------+---------------+-------------+------------+-------------------------+-----------------+------------+------------+------------+-----------+---------------------+--------------+\n"
     ]
    }
   ],
   "source": [
    "# Define the path to the JSON file\n",
    "file_path = 'data/weather/20241124_004545.json' \n",
    "\n",
    "# Load the JSON data\n",
    "weather_data = pd.read_json(file_path)\n",
    "\n",
    "# Check if the data was loaded successfully\n",
    "if not weather_data.empty:\n",
    "    # Print the DataFrame in a table format\n",
    "    print(tabulate(weather_data, headers='keys', tablefmt='psql'))\n",
    "else:\n",
    "    print(\"Failed to load weather data.\")"
   ]
  },
  {
   "cell_type": "markdown",
   "metadata": {},
   "source": [
    "### Report:"
   ]
  },
  {
   "cell_type": "markdown",
   "metadata": {},
   "source": [
    "The dataset contains weather information for a specific location, **Athenry**, recorded at a particular time. Here’s a brief explanation of the key components of the dataset:\n",
    "\n",
    "- **Name:** The name of the location (Athenry).\n",
    "- **Temperature:** The current temperature in degrees Celsius (10°C).\n",
    "- **Symbol:** A code representing the weather condition (e.g., \"05n\" for nighttime rain).\n",
    "- **WeatherDescription:** A textual description of the weather condition (e.g., \"Rain showers\").\n",
    "- **Text:** A more detailed description of the weather (e.g., \"Rain shower\").\n",
    "- **WindSpeed:** The speed of the wind in kilometers per hour (35 km/h).\n",
    "- **WindGust:** The maximum wind gust speed recorded (61 km/h).\n",
    "- **CardinalWindDirection:** The direction from which the wind is blowing (e.g., \"SW\" for southwest).\n",
    "- **WindDirection:** The wind direction in degrees (225°).\n",
    "- **Humidity:** The relative humidity percentage (90%).\n",
    "- **Rainfall:** The amount of rainfall recorded (0.4 mm).\n",
    "- **Pressure:** The atmospheric pressure in hPa (976 hPa).\n",
    "- **DayName:** The name of the day of the week (Sunday).\n",
    "- **Date:** The date of the weather report (2024-11-24).\n",
    "- **ReportTime:** The time at which the weather data was recorded (00:00).\n",
    "\n",
    "**Overall**, this dataset provides a snapshot of the weather conditions in Athenry, including temperature, wind, humidity, and atmospheric pressure, at a specific date and time."
   ]
  },
  {
   "cell_type": "markdown",
   "metadata": {},
   "source": [
    "***\n",
    "\n",
    "## Resources:\n",
    "\n",
    "**Markdown:**\n",
    "\n",
    "https://www.jetbrains.com/help/hub/markdown-syntax.html#quick-notes-markdown-characters\n",
    "\n",
    "**Bash:**\n",
    "\n",
    "https://devhints.io/bash\n",
    "\n",
    "**Command Line:**\n",
    "\n",
    "https://www.codecademy.com/article/command-line-commands \n",
    "\n",
    "https://ubuntu.com/tutorials/command-line-for-beginners#1-overview\n",
    "\n",
    "**Codespaces:**\n",
    "\n",
    "https://docs.github.com/en/codespaces/getting-started/quickstart"
   ]
  },
  {
   "cell_type": "markdown",
   "metadata": {},
   "source": [
    "***\n",
    "\n",
    "## End"
   ]
  }
 ],
 "metadata": {
  "kernelspec": {
   "display_name": "base",
   "language": "python",
   "name": "python3"
  },
  "language_info": {
   "codemirror_mode": {
    "name": "ipython",
    "version": 3
   },
   "file_extension": ".py",
   "mimetype": "text/x-python",
   "name": "python",
   "nbconvert_exporter": "python",
   "pygments_lexer": "ipython3",
   "version": "3.11.5"
  }
 },
 "nbformat": 4,
 "nbformat_minor": 2
}
